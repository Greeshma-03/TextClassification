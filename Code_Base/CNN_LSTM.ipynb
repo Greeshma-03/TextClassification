{
 "cells": [
  {
   "cell_type": "code",
   "execution_count": 1,
   "metadata": {},
   "outputs": [
    {
     "name": "stderr",
     "output_type": "stream",
     "text": [
      "2022-12-02 23:09:48.452625: I tensorflow/core/platform/cpu_feature_guard.cc:193] This TensorFlow binary is optimized with oneAPI Deep Neural Network Library (oneDNN) to use the following CPU instructions in performance-critical operations:  AVX2 FMA\n",
      "To enable them in other operations, rebuild TensorFlow with the appropriate compiler flags.\n",
      "2022-12-02 23:09:48.802966: W tensorflow/stream_executor/platform/default/dso_loader.cc:64] Could not load dynamic library 'libcudart.so.11.0'; dlerror: libcudart.so.11.0: cannot open shared object file: No such file or directory\n",
      "2022-12-02 23:09:48.803027: I tensorflow/stream_executor/cuda/cudart_stub.cc:29] Ignore above cudart dlerror if you do not have a GPU set up on your machine.\n",
      "2022-12-02 23:09:48.905918: E tensorflow/stream_executor/cuda/cuda_blas.cc:2981] Unable to register cuBLAS factory: Attempting to register factory for plugin cuBLAS when one has already been registered\n",
      "2022-12-02 23:09:50.131931: W tensorflow/stream_executor/platform/default/dso_loader.cc:64] Could not load dynamic library 'libnvinfer.so.7'; dlerror: libnvinfer.so.7: cannot open shared object file: No such file or directory\n",
      "2022-12-02 23:09:50.132052: W tensorflow/stream_executor/platform/default/dso_loader.cc:64] Could not load dynamic library 'libnvinfer_plugin.so.7'; dlerror: libnvinfer_plugin.so.7: cannot open shared object file: No such file or directory\n",
      "2022-12-02 23:09:50.132063: W tensorflow/compiler/tf2tensorrt/utils/py_utils.cc:38] TF-TRT Warning: Cannot dlopen some TensorRT libraries. If you would like to use Nvidia GPU with TensorRT, please make sure the missing libraries mentioned above are installed properly.\n"
     ]
    }
   ],
   "source": [
    "import numpy as np\n",
    "import pandas as pd\n",
    "from keras.preprocessing.text import Tokenizer\n",
    "from tensorflow.keras.preprocessing.sequence import pad_sequences\n",
    "import matplotlib.pyplot as plt\n",
    "from sklearn.metrics import confusion_matrix\n",
    "import seaborn as sns\n",
    "from keras.layers import Input, Embedding, Activation, Flatten, Dense\n",
    "from keras.layers import Conv1D, MaxPooling1D, Dropout,LSTM\n",
    "from keras.models import Model\n"
   ]
  },
  {
   "cell_type": "code",
   "execution_count": 2,
   "metadata": {},
   "outputs": [],
   "source": [
    "############Loading the data###############\n",
    "\n",
    "\n",
    "train_data_source = 'train.csv'\n",
    "test_data_source = 'test.csv'\n",
    "\n",
    "train_df = pd.read_csv(train_data_source, header=None)\n",
    "test_df = pd.read_csv(test_data_source, header=None)\n",
    "\n",
    "\n",
    "####### Data Preprocessing part #########\n",
    "\n",
    "# Each of the row in dataset is (class,title,text)\n",
    "# combining title and text into second column and dropping that column\n",
    "\n",
    "\n",
    "\n",
    "train_df[1]=train_df[1]+train_df[2]\n",
    "test_df[1]=test_df[1]+test_df[2]\n",
    "\n",
    "train_df=train_df.drop([2],axis=1)\n",
    "test_df=test_df.drop([2],axis=1)\n",
    "\n",
    "\n",
    "# convert text_string to lower case \n",
    "train_texts = [s.lower() for s in train_df[1].values] \n",
    "test_texts = [s.lower() for s in test_df[1].values] \n"
   ]
  },
  {
   "cell_type": "code",
   "execution_count": 3,
   "metadata": {},
   "outputs": [],
   "source": [
    "\n",
    "# Tokenizer\n",
    "# Parameteres used:\n",
    "# num_words=None, since we want to keep all words (here eword referes to character) and not just most frequenet some 'x' words\n",
    "# oov_token='UNK', as we consider oov words also\n",
    "tk = Tokenizer(num_words=None, char_level=True, oov_token='UNK',lower=True)\n",
    "\n",
    "# It will understand the train string data that is provided and has direct functions to give results\n",
    "tk.fit_on_texts(train_texts)\n",
    "\n",
    "\n",
    "# Vocabulary of size 69 (excluding 'UNK' token)used \n",
    "alphabet=\"abcdefghijklmnopqrstuvwxyz0123456789 ,;.!?:'\\\"/\\\\|_@#$%^&*~`+-=<>()[]{}\" \n",
    "\n",
    "#creating word2index dictionary (1-based indexing)\n",
    "char_dict = {}\n",
    "for index in range(0,len(alphabet)):\n",
    "    char_dict[alphabet[index]] = index + 1\n",
    "    \n",
    "# Use char_dict to replace the tk.word_index\n",
    "tk.word_index = char_dict.copy() \n",
    "# Add 'UNK' to the vocabulary \n",
    "tk.word_index[tk.oov_token] = len(alphabet) + 1\n",
    "\n",
    "\n",
    "# Convert the concatenated string to vector of numbers corresponding to the number for each token in vocabulary\n",
    "train_sequences = tk.texts_to_sequences(train_texts)\n",
    "test_texts = tk.texts_to_sequences(test_texts)\n",
    "\n"
   ]
  },
  {
   "cell_type": "code",
   "execution_count": 4,
   "metadata": {},
   "outputs": [],
   "source": [
    "# Padding with zeros till maximum length of 1014 and terminating if number of characters have exceeded 1014\n",
    "train_data=np.array(np.zeros((len(train_sequences),1014)))\n",
    "test_data=np.array(np.zeros((len(test_texts),1014)))\n",
    "\n",
    "pos=0\n",
    "for seq in train_sequences:\n",
    "    x=pad_sequences([seq], maxlen=1014, padding='post')\n",
    "    x=np.array(x)\n",
    "    train_data[pos]=x\n",
    "    pos+=1\n",
    "pos=0\n",
    "for seq in test_texts:\n",
    "    x=pad_sequences([seq], maxlen=1014, padding='post')\n",
    "    x=np.array(x)\n",
    "    test_data[pos]=x\n",
    "    pos+=1\n",
    "# train_data = pad_sequences(train_sequences, maxlen=1014, padding='post')\n",
    "# test_data = pad_sequences(test_texts, maxlen=1014, padding='post')\n",
    "\n",
    "# Convert to numpy array\n",
    "train_data = np.array(train_data, dtype='float32')\n",
    "test_data = np.array(test_data, dtype='float32')\n",
    "\n",
    "# Now we are having each row of the train data as 1014 length (format of numpy array)"
   ]
  },
  {
   "cell_type": "code",
   "execution_count": 5,
   "metadata": {},
   "outputs": [
    {
     "name": "stdout",
     "output_type": "stream",
     "text": [
      "wall st. bears claw back into the black (reuters)reuters - short-sellers, wall street's dwindling\\band of ultra-cynics, are seeing green again.\n",
      "[23, 1, 12, 12, 37, 19, 20, 40, 37, 2, 5, 1, 18, 19, 37, 3, 12, 1, 23, 37, 2, 1, 3, 11, 37, 9, 14, 20, 15, 37, 20, 8, 5, 37, 2, 12, 1, 3, 11, 37, 64, 18, 5, 21, 20, 5, 18, 19, 65, 18, 5, 21, 20, 5, 18, 19, 37, 60, 37, 19, 8, 15, 18, 20, 60, 19, 5, 12, 12, 5, 18, 19, 38, 37, 23, 1, 12, 12, 37, 19, 20, 18, 5, 5, 20, 44, 19, 37, 4, 23, 9, 14, 4, 12, 9, 14, 7, 47, 2, 1, 14, 4, 37, 15, 6, 37, 21, 12, 20, 18, 1, 60, 3, 25, 14, 9, 3, 19, 38, 37, 1, 18, 5, 37, 19, 5, 5, 9, 14, 7, 37, 7, 18, 5, 5, 14, 37, 1, 7, 1, 9, 14, 40]\n",
      "[23.  1. 12. 12. 37. 19. 20. 40. 37.  2.  5.  1. 18. 19. 37.  3. 12.  1.\n",
      " 23. 37.  2.  1.  3. 11. 37.  9. 14. 20. 15. 37.]\n",
      "[23.  1. 12. ...  0.  0.  0.]\n"
     ]
    }
   ],
   "source": [
    "print(train_texts[0])\n",
    "print(train_sequences[0])\n",
    "\n",
    "print(train_data[0][:30])\n",
    "print(train_data[0])"
   ]
  },
  {
   "cell_type": "code",
   "execution_count": 6,
   "metadata": {},
   "outputs": [
    {
     "name": "stdout",
     "output_type": "stream",
     "text": [
      "[0. 0. 1. 0.]\n"
     ]
    }
   ],
   "source": [
    "# In the dataframes for train and test df, first dimension corresponds to the class label\n",
    "train_classes = train_df[0].values #contains just the values of class labels\n",
    "test_classes = test_df[0].values\n",
    "\n",
    "# Converting classes to zero based indexing as we are using to_categorical in next step\n",
    "train_class_list = [int(x)-1 for x in train_classes]\n",
    "test_class_list = [int(x)-1 for x in test_classes]\n",
    "\n",
    "# using to_categorical to have the vectorized form of classes (kind of one-hot encoding for classes)\n",
    "from keras.utils import to_categorical\n",
    "train_classes = to_categorical(train_class_list)\n",
    "test_classes = to_categorical(test_class_list)\n",
    "\n",
    "print(train_classes[0])"
   ]
  },
  {
   "cell_type": "code",
   "execution_count": 7,
   "metadata": {},
   "outputs": [
    {
     "name": "stdout",
     "output_type": "stream",
     "text": [
      "2\n",
      "[0. 0. 1. 0.]\n",
      "{'a': 1, 'b': 2, 'c': 3, 'd': 4, 'e': 5, 'f': 6, 'g': 7, 'h': 8, 'i': 9, 'j': 10, 'k': 11, 'l': 12, 'm': 13, 'n': 14, 'o': 15, 'p': 16, 'q': 17, 'r': 18, 's': 19, 't': 20, 'u': 21, 'v': 22, 'w': 23, 'x': 24, 'y': 25, 'z': 26, '0': 27, '1': 28, '2': 29, '3': 30, '4': 31, '5': 32, '6': 33, '7': 34, '8': 35, '9': 36, ' ': 37, ',': 38, ';': 39, '.': 40, '!': 41, '?': 42, ':': 43, \"'\": 44, '\"': 45, '/': 46, '\\\\': 47, '|': 48, '_': 49, '@': 50, '#': 51, '$': 52, '%': 53, '^': 54, '&': 55, '*': 56, '~': 57, '`': 58, '+': 59, '-': 60, '=': 61, '<': 62, '>': 63, '(': 64, ')': 65, '[': 66, ']': 67, '{': 68, '}': 69, 'UNK': 70}\n"
     ]
    }
   ],
   "source": [
    "print(train_class_list[0])\n",
    "print(train_classes[0])\n",
    "\n",
    "print(tk.word_index)"
   ]
  },
  {
   "cell_type": "code",
   "execution_count": 8,
   "metadata": {},
   "outputs": [
    {
     "name": "stdout",
     "output_type": "stream",
     "text": [
      "70\n"
     ]
    }
   ],
   "source": [
    "vocab_size = len(tk.word_index)\n",
    "print(vocab_size)"
   ]
  },
  {
   "cell_type": "code",
   "execution_count": 9,
   "metadata": {},
   "outputs": [],
   "source": [
    "# First row is meant for padding zeros \n",
    "# Remaining 70 rows corresponds to each of the one hot encoding type of the character\n",
    "\n",
    "embedding_weights = []\n",
    "zeros=np.zeros(vocab_size)\n",
    "embedding_weights.append(zeros)\n",
    "\n",
    "for char, i in tk.word_index.items():\n",
    "    val = np.zeros(vocab_size)\n",
    "    val[i-1] = 1\n",
    "    embedding_weights.append(val)\n",
    "\n",
    "embedding_weights = np.array(embedding_weights)"
   ]
  },
  {
   "cell_type": "code",
   "execution_count": 10,
   "metadata": {},
   "outputs": [
    {
     "name": "stdout",
     "output_type": "stream",
     "text": [
      "(71, 70)\n"
     ]
    },
    {
     "data": {
      "text/plain": [
       "array([[0., 0., 0., ..., 0., 0., 0.],\n",
       "       [1., 0., 0., ..., 0., 0., 0.],\n",
       "       [0., 1., 0., ..., 0., 0., 0.],\n",
       "       ...,\n",
       "       [0., 0., 0., ..., 1., 0., 0.],\n",
       "       [0., 0., 0., ..., 0., 1., 0.],\n",
       "       [0., 0., 0., ..., 0., 0., 1.]])"
      ]
     },
     "execution_count": 10,
     "metadata": {},
     "output_type": "execute_result"
    }
   ],
   "source": [
    "# Here first row is for zero vector and all others correspond to the 70 characters that are considered\n",
    "print(embedding_weights.shape)\n",
    "embedding_weights"
   ]
  },
  {
   "cell_type": "code",
   "execution_count": 11,
   "metadata": {},
   "outputs": [],
   "source": [
    "########### Model Parameters ################\n",
    "\n",
    "# input size for each of the sample is 1014 numpy array\n",
    "input_size = 1014\n",
    "embedding_size = 70\n",
    "\n",
    "# For this corpus it is 4\n",
    "num_of_classes = 4\n",
    "dropout_p = 0.4\n",
    "\n",
    "# there are 7 convolution layers as mentioned in research paper\n",
    "# (number of filters, size of the filter, pooling size)\n",
    "conv_layers = [[256, 7, 3], \n",
    "               [256, 7, 3], \n",
    "               [256, 3, 0], \n",
    "               [256, 3, 0], \n",
    "               [256, 3, 0], \n",
    "               [256, 3, 3]]\n",
    "\n",
    "# Fully connected neural network added to the convolution network\n",
    "fully_connected_layers = [32,16]\n",
    "\n",
    "\n"
   ]
  },
  {
   "cell_type": "code",
   "execution_count": 12,
   "metadata": {},
   "outputs": [
    {
     "name": "stderr",
     "output_type": "stream",
     "text": [
      "2022-12-02 23:10:13.038254: W tensorflow/stream_executor/platform/default/dso_loader.cc:64] Could not load dynamic library 'libcuda.so.1'; dlerror: libcuda.so.1: cannot open shared object file: No such file or directory\n",
      "2022-12-02 23:10:13.038278: W tensorflow/stream_executor/cuda/cuda_driver.cc:263] failed call to cuInit: UNKNOWN ERROR (303)\n",
      "2022-12-02 23:10:13.038297: I tensorflow/stream_executor/cuda/cuda_diagnostics.cc:156] kernel driver does not appear to be running on this host (GREESHMA): /proc/driver/nvidia/version does not exist\n",
      "2022-12-02 23:10:13.038872: I tensorflow/core/platform/cpu_feature_guard.cc:193] This TensorFlow binary is optimized with oneAPI Deep Neural Network Library (oneDNN) to use the following CPU instructions in performance-critical operations:  AVX2 FMA\n",
      "To enable them in other operations, rebuild TensorFlow with the appropriate compiler flags.\n"
     ]
    },
    {
     "name": "stdout",
     "output_type": "stream",
     "text": [
      "(None, 34, 256)\n",
      "Model: \"model\"\n",
      "_________________________________________________________________\n",
      " Layer (type)                Output Shape              Param #   \n",
      "=================================================================\n",
      " input (InputLayer)          [(None, 1014)]            0         \n",
      "                                                                 \n",
      " embedding (Embedding)       (None, 1014, 70)          4970      \n",
      "                                                                 \n",
      " conv1d (Conv1D)             (None, 1008, 256)         125696    \n",
      "                                                                 \n",
      " activation (Activation)     (None, 1008, 256)         0         \n",
      "                                                                 \n",
      " max_pooling1d (MaxPooling1D  (None, 336, 256)         0         \n",
      " )                                                               \n",
      "                                                                 \n",
      " conv1d_1 (Conv1D)           (None, 330, 256)          459008    \n",
      "                                                                 \n",
      " activation_1 (Activation)   (None, 330, 256)          0         \n",
      "                                                                 \n",
      " max_pooling1d_1 (MaxPooling  (None, 110, 256)         0         \n",
      " 1D)                                                             \n",
      "                                                                 \n",
      " conv1d_2 (Conv1D)           (None, 108, 256)          196864    \n",
      "                                                                 \n",
      " activation_2 (Activation)   (None, 108, 256)          0         \n",
      "                                                                 \n",
      " conv1d_3 (Conv1D)           (None, 106, 256)          196864    \n",
      "                                                                 \n",
      " activation_3 (Activation)   (None, 106, 256)          0         \n",
      "                                                                 \n",
      " conv1d_4 (Conv1D)           (None, 104, 256)          196864    \n",
      "                                                                 \n",
      " activation_4 (Activation)   (None, 104, 256)          0         \n",
      "                                                                 \n",
      " conv1d_5 (Conv1D)           (None, 102, 256)          196864    \n",
      "                                                                 \n",
      " activation_5 (Activation)   (None, 102, 256)          0         \n",
      "                                                                 \n",
      " max_pooling1d_2 (MaxPooling  (None, 34, 256)          0         \n",
      " 1D)                                                             \n",
      "                                                                 \n",
      " lstm (LSTM)                 (None, 128)               197120    \n",
      "                                                                 \n",
      " dense (Dense)               (None, 32)                4128      \n",
      "                                                                 \n",
      " dropout (Dropout)           (None, 32)                0         \n",
      "                                                                 \n",
      " dense_1 (Dense)             (None, 16)                528       \n",
      "                                                                 \n",
      " dropout_1 (Dropout)         (None, 16)                0         \n",
      "                                                                 \n",
      " dense_2 (Dense)             (None, 4)                 68        \n",
      "                                                                 \n",
      "=================================================================\n",
      "Total params: 1,578,974\n",
      "Trainable params: 1,578,974\n",
      "Non-trainable params: 0\n",
      "_________________________________________________________________\n"
     ]
    }
   ],
   "source": [
    "# Model Architecture\n",
    "\n",
    "# Input\n",
    "inputs = Input(shape=(input_size,), name='input', dtype='int64')  # shape=(?, 1014)\n",
    "# Embedding \n",
    "x=Embedding(vocab_size+1,\n",
    "              embedding_size,\n",
    "              input_length=input_size,\n",
    "              weights=[embedding_weights])(inputs)\n",
    "# Conv \n",
    "for filter_num, filter_size, pooling_size in conv_layers:\n",
    "    x = Conv1D(filter_num, filter_size)(x) \n",
    "    x = Activation('relu')(x)\n",
    "    if pooling_size != 0:\n",
    "        x = MaxPooling1D(pool_size=pooling_size)(x) # Final shape=(None, 34, 256)\n",
    "# x = Flatten()(x) # (None, 8704)\n",
    "\n",
    "print(x.shape)\n",
    "x=LSTM(128)(x)\n",
    "\n",
    "# Adding the fully connected layers \n",
    "for dense_size in fully_connected_layers:\n",
    "    x = Dense(dense_size, activation='relu')(x) \n",
    "    x = Dropout(dropout_p)(x)\n",
    "\n",
    "\n",
    "# Adding a dense output layer equivalent to number of classes and applying softmax activation\n",
    "predictions = Dense(num_of_classes, activation='softmax')(x)\n",
    "\n",
    "# Build model\n",
    "model = Model(inputs=inputs, outputs=predictions)\n",
    "model.compile(optimizer=\"adam\", loss=\"categorical_crossentropy\", metrics=['accuracy']) # Adam, categorical_crossentropy\n",
    "\n",
    "# To print the paremeteres and layers used in the model\n",
    "model.summary()\n"
   ]
  },
  {
   "cell_type": "code",
   "execution_count": 13,
   "metadata": {},
   "outputs": [],
   "source": [
    "# 1000 training samples and 100 testing samples\n",
    "indices = []\n",
    "for i in range(train_classes.shape[0]):\n",
    "    indices.append(i)\n",
    "indices=np.array(indices)\n",
    "np.random.shuffle(indices)\n",
    "\n",
    "x_train = train_data[indices][:500]\n",
    "y_train = train_classes[indices][:500]\n",
    "\n",
    "x_test = test_data[:40]\n",
    "y_test = test_classes[:40]"
   ]
  },
  {
   "cell_type": "code",
   "execution_count": 14,
   "metadata": {},
   "outputs": [
    {
     "name": "stdout",
     "output_type": "stream",
     "text": [
      "Epoch 1/10\n",
      "8/8 - 16s - loss: 1.3871 - accuracy: 0.2540 - val_loss: 1.3645 - val_accuracy: 0.6250 - 16s/epoch - 2s/step\n",
      "Epoch 2/10\n",
      "8/8 - 12s - loss: 1.3870 - accuracy: 0.2380 - val_loss: 1.3730 - val_accuracy: 0.6250 - 12s/epoch - 1s/step\n",
      "Epoch 3/10\n",
      "8/8 - 11s - loss: 1.3855 - accuracy: 0.2380 - val_loss: 1.3744 - val_accuracy: 0.3750 - 11s/epoch - 1s/step\n",
      "Epoch 4/10\n",
      "8/8 - 11s - loss: 1.3842 - accuracy: 0.2420 - val_loss: 1.3458 - val_accuracy: 0.6250 - 11s/epoch - 1s/step\n",
      "Epoch 5/10\n",
      "8/8 - 12s - loss: 1.3864 - accuracy: 0.2640 - val_loss: 1.3720 - val_accuracy: 0.1000 - 12s/epoch - 2s/step\n",
      "Epoch 6/10\n",
      "8/8 - 11s - loss: 1.3842 - accuracy: 0.2380 - val_loss: 1.3639 - val_accuracy: 0.3750 - 11s/epoch - 1s/step\n",
      "Epoch 7/10\n",
      "8/8 - 12s - loss: 1.3790 - accuracy: 0.2740 - val_loss: 1.3745 - val_accuracy: 0.2750 - 12s/epoch - 1s/step\n",
      "Epoch 8/10\n",
      "8/8 - 10s - loss: 1.3795 - accuracy: 0.2580 - val_loss: 1.4093 - val_accuracy: 0.2000 - 10s/epoch - 1s/step\n",
      "Epoch 9/10\n",
      "8/8 - 10s - loss: 1.3820 - accuracy: 0.2960 - val_loss: 1.3991 - val_accuracy: 0.0500 - 10s/epoch - 1s/step\n",
      "Epoch 10/10\n",
      "8/8 - 11s - loss: 1.3830 - accuracy: 0.2360 - val_loss: 1.4094 - val_accuracy: 0.1750 - 11s/epoch - 1s/step\n"
     ]
    }
   ],
   "source": [
    "# Training Phase and testing on the created (x_test,y_test)\n",
    "\n",
    "history=model.fit(x_train, y_train,\n",
    "          validation_data=(x_test, y_test),\n",
    "          batch_size=64,\n",
    "          epochs=10,\n",
    "          verbose=2)\n"
   ]
  },
  {
   "cell_type": "code",
   "execution_count": 15,
   "metadata": {},
   "outputs": [
    {
     "data": {
      "image/png": "[encoded data removed]",
      "text/plain": [
       "<Figure size 432x288 with 1 Axes>"
      ]
     },
     "metadata": {
      "needs_background": "light"
     },
     "output_type": "display_data"
    }
   ],
   "source": [
    "\n",
    "plt.plot(history.history['accuracy'])\n",
    "plt.plot(history.history['val_accuracy'])\n",
    "plt.title('Model accuracy')\n",
    "plt.ylabel('Accuracy')\n",
    "plt.xlabel('Epoch')\n",
    "plt.legend(['Train', 'Test'], loc='upper left')\n",
    "plt.show()          \n"
   ]
  },
  {
   "cell_type": "code",
   "execution_count": 16,
   "metadata": {},
   "outputs": [
    {
     "name": "stdout",
     "output_type": "stream",
     "text": [
      "2/2 [==============================] - 1s 106ms/step\n",
      "[0. 0. 1. 0.]\n",
      "[0.25708607 0.2365662  0.26046333 0.2458843 ]\n",
      "<class 'numpy.ndarray'>\n",
      "[[0.75 0.   0.25 0.  ]\n",
      " [0.5  0.   0.5  0.  ]\n",
      " [0.   0.   1.   0.  ]\n",
      " [0.44 0.   0.56 0.  ]]\n"
     ]
    },
    {
     "data": {
      "image/png": "[encoded data removed]",
      "text/plain": [
       "<Figure size 720x720 with 2 Axes>"
      ]
     },
     "metadata": {
      "needs_background": "light"
     },
     "output_type": "display_data"
    }
   ],
   "source": [
    "# matrix = metrics.confusion_matrix(y_test.argmax(axis=1), y_pred.argmax(axis=1))\n",
    "\n",
    "\n",
    "predictions=model.predict(x_test)\n",
    "print(y_test[0])\n",
    "print(predictions[0])\n",
    "print(type(predictions[0]))\n",
    "cf_matrix = confusion_matrix(y_test.argmax(axis=1), predictions.argmax(axis=1))\n",
    "\n",
    "# sns.heatmap(cf_matrix, annot=True)\n",
    "\n",
    "cmn = cf_matrix.astype('float') / cf_matrix.sum(axis=1)[:, np.newaxis]\n",
    "fig, ax = plt.subplots(figsize=(10,10))\n",
    "\n",
    "print(cmn)\n",
    "\n",
    "sns.heatmap(cmn, annot=True, fmt='.2f', xticklabels=[0,1,2,3,4], yticklabels=[0,1,2,3,4])\n",
    "plt.ylabel('Actual')\n",
    "plt.xlabel('Predicted')\n",
    "plt.show(block=True)\n"
   ]
  }
 ],
 "metadata": {
  "kernelspec": {
   "display_name": "Python 3.8.10 64-bit",
   "language": "python",
   "name": "python3"
  },
  "language_info": {
   "codemirror_mode": {
    "name": "ipython",
    "version": 3
   },
   "file_extension": ".py",
   "mimetype": "text/x-python",
   "name": "python",
   "nbconvert_exporter": "python",
   "pygments_lexer": "ipython3",
   "version": "3.8.10"
  },
  "orig_nbformat": 4,
  "vscode": {
   "interpreter": {
    "hash": "916dbcbb3f70747c44a77c7bcd40155683ae19c65e1c03b4aa3499c5328201f1"
   }
  }
 },
 "nbformat": 4,
 "nbformat_minor": 2
}
