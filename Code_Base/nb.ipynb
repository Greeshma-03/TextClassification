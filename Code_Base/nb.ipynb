{
 "cells": [
  {
   "cell_type": "code",
   "execution_count": 2,
   "metadata": {},
   "outputs": [
    {
     "name": "stderr",
     "output_type": "stream",
     "text": [
      "[nltk_data] Downloading package wordnet to\n",
      "[nltk_data]     /home/manaswini/nltk_data...\n",
      "[nltk_data]   Package wordnet is already up-to-date!\n"
     ]
    }
   ],
   "source": [
    "\n",
    "import pandas as pd\n",
    "import numpy as np\n",
    "import matplotlib.pyplot as plt\n",
    "import seaborn as sns\n",
    "import nltk\n",
    "from nltk.corpus import stopwords\n",
    "from nltk.corpus import wordnet as wn\n",
    "from nltk.stem import PorterStemmer\n",
    "from nltk.stem import WordNetLemmatizer\n",
    "from collections import defaultdict\n",
    "nltk.download('wordnet')\n",
    "from sklearn.feature_extraction.text import TfidfVectorizer\n",
    "from sklearn.model_selection import train_test_split\n",
    "from sklearn.metrics import accuracy_score\n",
    "from sklearn.metrics import confusion_matrix\n",
    "from sklearn.metrics import precision_recall_fscore_support as score"
   ]
  },
  {
   "cell_type": "code",
   "execution_count": 3,
   "metadata": {},
   "outputs": [
    {
     "data": {
      "text/plain": [
       "(2000, 3)"
      ]
     },
     "execution_count": 3,
     "metadata": {},
     "output_type": "execute_result"
    }
   ],
   "source": [
    "train_data1 = pd.read_csv('train.csv')\n",
    "test_data1 =  pd.read_csv('test.csv')\n",
    "\n",
    "train_data = train_data1[:2000]\n",
    "test_data = test_data1[:2000]\n",
    "train_data.shape"
   ]
  },
  {
   "cell_type": "code",
   "execution_count": 4,
   "metadata": {},
   "outputs": [
    {
     "name": "stdout",
     "output_type": "stream",
     "text": [
      "<class 'pandas.core.frame.DataFrame'>\n",
      "RangeIndex: 2000 entries, 0 to 1999\n",
      "Data columns (total 3 columns):\n",
      " #   Column                                                                                                                           Non-Null Count  Dtype \n",
      "---  ------                                                                                                                           --------------  ----- \n",
      " 0   3                                                                                                                                2000 non-null   int64 \n",
      " 1   Fears for T N pension after talks                                                                                                2000 non-null   object\n",
      " 2   Unions representing workers at Turner   Newall say they are 'disappointed' after talks with stricken parent firm Federal Mogul.  2000 non-null   object\n",
      "dtypes: int64(1), object(2)\n",
      "memory usage: 47.0+ KB\n"
     ]
    }
   ],
   "source": [
    "test_data.info()"
   ]
  },
  {
   "cell_type": "code",
   "execution_count": 5,
   "metadata": {},
   "outputs": [
    {
     "name": "stdout",
     "output_type": "stream",
     "text": [
      "<class 'pandas.core.frame.DataFrame'>\n",
      "RangeIndex: 2000 entries, 0 to 1999\n",
      "Data columns (total 3 columns):\n",
      " #   Column                                                                                          Non-Null Count  Dtype \n",
      "---  ------                                                                                          --------------  ----- \n",
      " 0   3                                                                                               2000 non-null   int64 \n",
      " 1   Wall St. Bears Claw Back Into the Black (Reuters)                                               2000 non-null   object\n",
      " 2   Reuters - Short-sellers, Wall Street's dwindling\\band of ultra-cynics, are seeing green again.  2000 non-null   object\n",
      "dtypes: int64(1), object(2)\n",
      "memory usage: 47.0+ KB\n"
     ]
    }
   ],
   "source": [
    "train_data.info()"
   ]
  },
  {
   "cell_type": "code",
   "execution_count": 6,
   "metadata": {},
   "outputs": [
    {
     "data": {
      "text/html": [
       "<div>\n",
       "<style scoped>\n",
       "    .dataframe tbody tr th:only-of-type {\n",
       "        vertical-align: middle;\n",
       "    }\n",
       "\n",
       "    .dataframe tbody tr th {\n",
       "        vertical-align: top;\n",
       "    }\n",
       "\n",
       "    .dataframe thead th {\n",
       "        text-align: right;\n",
       "    }\n",
       "</style>\n",
       "<table border=\"1\" class=\"dataframe\">\n",
       "  <thead>\n",
       "    <tr style=\"text-align: right;\">\n",
       "      <th></th>\n",
       "      <th>3</th>\n",
       "      <th>Wall St. Bears Claw Back Into the Black (Reuters)</th>\n",
       "      <th>Reuters - Short-sellers, Wall Street's dwindling\\band of ultra-cynics, are seeing green again.</th>\n",
       "    </tr>\n",
       "  </thead>\n",
       "  <tbody>\n",
       "    <tr>\n",
       "      <th>0</th>\n",
       "      <td>3</td>\n",
       "      <td>Carlyle Looks Toward Commercial Aerospace (Reu...</td>\n",
       "      <td>Reuters - Private investment firm Carlyle Grou...</td>\n",
       "    </tr>\n",
       "    <tr>\n",
       "      <th>1</th>\n",
       "      <td>3</td>\n",
       "      <td>Oil and Economy Cloud Stocks' Outlook (Reuters)</td>\n",
       "      <td>Reuters - Soaring crude prices plus worries\\ab...</td>\n",
       "    </tr>\n",
       "    <tr>\n",
       "      <th>2</th>\n",
       "      <td>3</td>\n",
       "      <td>Iraq Halts Oil Exports from Main Southern Pipe...</td>\n",
       "      <td>Reuters - Authorities have halted oil export\\f...</td>\n",
       "    </tr>\n",
       "    <tr>\n",
       "      <th>3</th>\n",
       "      <td>3</td>\n",
       "      <td>Oil prices soar to all-time record, posing new...</td>\n",
       "      <td>AFP - Tearaway world oil prices, toppling reco...</td>\n",
       "    </tr>\n",
       "    <tr>\n",
       "      <th>4</th>\n",
       "      <td>3</td>\n",
       "      <td>Stocks End Up, But Near Year Lows (Reuters)</td>\n",
       "      <td>Reuters - Stocks ended slightly higher on Frid...</td>\n",
       "    </tr>\n",
       "  </tbody>\n",
       "</table>\n",
       "</div>"
      ],
      "text/plain": [
       "   3  Wall St. Bears Claw Back Into the Black (Reuters)  \\\n",
       "0  3  Carlyle Looks Toward Commercial Aerospace (Reu...   \n",
       "1  3    Oil and Economy Cloud Stocks' Outlook (Reuters)   \n",
       "2  3  Iraq Halts Oil Exports from Main Southern Pipe...   \n",
       "3  3  Oil prices soar to all-time record, posing new...   \n",
       "4  3        Stocks End Up, But Near Year Lows (Reuters)   \n",
       "\n",
       "  Reuters - Short-sellers, Wall Street's dwindling\\band of ultra-cynics, are seeing green again.  \n",
       "0  Reuters - Private investment firm Carlyle Grou...                                              \n",
       "1  Reuters - Soaring crude prices plus worries\\ab...                                              \n",
       "2  Reuters - Authorities have halted oil export\\f...                                              \n",
       "3  AFP - Tearaway world oil prices, toppling reco...                                              \n",
       "4  Reuters - Stocks ended slightly higher on Frid...                                              "
      ]
     },
     "execution_count": 6,
     "metadata": {},
     "output_type": "execute_result"
    }
   ],
   "source": [
    "train_data.head()"
   ]
  },
  {
   "cell_type": "code",
   "execution_count": 8,
   "metadata": {},
   "outputs": [],
   "source": [
    "from wordcloud import WordCloud"
   ]
  },
  {
   "cell_type": "code",
   "execution_count": 9,
   "metadata": {},
   "outputs": [
    {
     "data": {
      "text/plain": [
       "3                                                                                                 0\n",
       "Wall St. Bears Claw Back Into the Black (Reuters)                                                 0\n",
       "Reuters - Short-sellers, Wall Street's dwindling\\band of ultra-cynics, are seeing green again.    0\n",
       "dtype: int64"
      ]
     },
     "execution_count": 9,
     "metadata": {},
     "output_type": "execute_result"
    }
   ],
   "source": [
    "# check the dataframe for missing values\n",
    "train_data.isnull().sum()\n"
   ]
  },
  {
   "cell_type": "code",
   "execution_count": 10,
   "metadata": {},
   "outputs": [
    {
     "name": "stderr",
     "output_type": "stream",
     "text": [
      "/tmp/ipykernel_28611/2596581468.py:11: SettingWithCopyWarning: \n",
      "A value is trying to be set on a copy of a slice from a DataFrame.\n",
      "Try using .loc[row_indexer,col_indexer] = value instead\n",
      "\n",
      "See the caveats in the documentation: https://pandas.pydata.org/pandas-docs/stable/user_guide/indexing.html#returning-a-view-versus-a-copy\n",
      "  df[1] = df[1] + df[2]\n"
     ]
    },
    {
     "data": {
      "text/plain": [
       "(4000, 2)"
      ]
     },
     "execution_count": 10,
     "metadata": {},
     "output_type": "execute_result"
    }
   ],
   "source": [
    "\n",
    "train_data_source = 'train.csv'\n",
    "test_data_source = 'test.csv'\n",
    "\n",
    "train_df = pd.read_csv(train_data_source, header=None)\n",
    "test_df = pd.read_csv(test_data_source, header=None)\n",
    "\n",
    "train_df1 = train_df[:4000]\n",
    "\n",
    "\n",
    "for df in [train_df1]:\n",
    "    df[1] = df[1] + df[2]\n",
    "    df = df.drop([2], axis=1)\n",
    "\n",
    "# convert text_string to lower case \n",
    "train_texts = train_df1[1].values[:2000]\n",
    "train_texts = [s.lower() for s in train_texts] \n",
    "\n",
    "\n",
    "df.head()\n",
    "df.shape"
   ]
  },
  {
   "cell_type": "code",
   "execution_count": 11,
   "metadata": {},
   "outputs": [
    {
     "name": "stderr",
     "output_type": "stream",
     "text": [
      "/tmp/ipykernel_28611/401252660.py:9: SettingWithCopyWarning: \n",
      "A value is trying to be set on a copy of a slice from a DataFrame.\n",
      "Try using .loc[row_indexer,col_indexer] = value instead\n",
      "\n",
      "See the caveats in the documentation: https://pandas.pydata.org/pandas-docs/stable/user_guide/indexing.html#returning-a-view-versus-a-copy\n",
      "  tf[1] = tf[1] + tf[2]\n"
     ]
    },
    {
     "data": {
      "text/plain": [
       "(4000, 2)"
      ]
     },
     "execution_count": 11,
     "metadata": {},
     "output_type": "execute_result"
    }
   ],
   "source": [
    "\n",
    "train_data_source = 'train.csv'\n",
    "test_data_source = 'test.csv'\n",
    "\n",
    "train_df = pd.read_csv(train_data_source, header=None)\n",
    "test_df = pd.read_csv(test_data_source, header=None)\n",
    "\n",
    "test_df1 = test_df[:4000]\n",
    "for tf in [test_df1]:\n",
    "    tf[1] = tf[1] + tf[2]\n",
    "    tf = tf.drop([2], axis=1)\n",
    "\n",
    "# convert text_string to lower case \n",
    "test_texts = test_df1[1].values\n",
    "test_texts = [s.lower() for s in test_texts] \n",
    "\n",
    "tf.head()\n",
    "tf.shape\n",
    "\n"
   ]
  },
  {
   "cell_type": "code",
   "execution_count": 12,
   "metadata": {},
   "outputs": [
    {
     "data": {
      "text/plain": [
       "(4000, 2)"
      ]
     },
     "execution_count": 12,
     "metadata": {},
     "output_type": "execute_result"
    }
   ],
   "source": [
    "df.shape"
   ]
  },
  {
   "cell_type": "code",
   "execution_count": 14,
   "metadata": {},
   "outputs": [
    {
     "name": "stderr",
     "output_type": "stream",
     "text": [
      "[nltk_data] Downloading package omw-1.4 to\n",
      "[nltk_data]     /home/manaswini/nltk_data...\n",
      "[nltk_data]   Package omw-1.4 is already up-to-date!\n"
     ]
    },
    {
     "data": {
      "text/html": [
       "<div>\n",
       "<style scoped>\n",
       "    .dataframe tbody tr th:only-of-type {\n",
       "        vertical-align: middle;\n",
       "    }\n",
       "\n",
       "    .dataframe tbody tr th {\n",
       "        vertical-align: top;\n",
       "    }\n",
       "\n",
       "    .dataframe thead th {\n",
       "        text-align: right;\n",
       "    }\n",
       "</style>\n",
       "<table border=\"1\" class=\"dataframe\">\n",
       "  <thead>\n",
       "    <tr style=\"text-align: right;\">\n",
       "      <th></th>\n",
       "      <th>0</th>\n",
       "      <th>1</th>\n",
       "      <th>2</th>\n",
       "    </tr>\n",
       "  </thead>\n",
       "  <tbody>\n",
       "    <tr>\n",
       "      <th>0</th>\n",
       "      <td>3</td>\n",
       "      <td>wall st. bears claw back into the black (reute...</td>\n",
       "      <td>Wall St. Bears Claw Back Into the Black (Reute...</td>\n",
       "    </tr>\n",
       "    <tr>\n",
       "      <th>1</th>\n",
       "      <td>3</td>\n",
       "      <td>carlyle looks toward commercial aerospace (reu...</td>\n",
       "      <td>Carlyle Looks Toward Commercial Aerospace (Reu...</td>\n",
       "    </tr>\n",
       "    <tr>\n",
       "      <th>2</th>\n",
       "      <td>3</td>\n",
       "      <td>oil and economy cloud stocks' outlook (reuters...</td>\n",
       "      <td>Oil and Economy Cloud Stocks' Outlook (Reuters...</td>\n",
       "    </tr>\n",
       "    <tr>\n",
       "      <th>3</th>\n",
       "      <td>3</td>\n",
       "      <td>iraq halts oil exports from main southern pipe...</td>\n",
       "      <td>Iraq Halts Oil Exports from Main Southern Pipe...</td>\n",
       "    </tr>\n",
       "    <tr>\n",
       "      <th>4</th>\n",
       "      <td>3</td>\n",
       "      <td>oil prices soar to all-time record, posing new...</td>\n",
       "      <td>Oil prices soar to all-time record, posing new...</td>\n",
       "    </tr>\n",
       "  </tbody>\n",
       "</table>\n",
       "</div>"
      ],
      "text/plain": [
       "   0                                                  1  \\\n",
       "0  3  wall st. bears claw back into the black (reute...   \n",
       "1  3  carlyle looks toward commercial aerospace (reu...   \n",
       "2  3  oil and economy cloud stocks' outlook (reuters...   \n",
       "3  3  iraq halts oil exports from main southern pipe...   \n",
       "4  3  oil prices soar to all-time record, posing new...   \n",
       "\n",
       "                                                   2  \n",
       "0  Wall St. Bears Claw Back Into the Black (Reute...  \n",
       "1  Carlyle Looks Toward Commercial Aerospace (Reu...  \n",
       "2  Oil and Economy Cloud Stocks' Outlook (Reuters...  \n",
       "3  Iraq Halts Oil Exports from Main Southern Pipe...  \n",
       "4  Oil prices soar to all-time record, posing new...  "
      ]
     },
     "execution_count": 14,
     "metadata": {},
     "output_type": "execute_result"
    }
   ],
   "source": [
    "import nltk\n",
    "nltk.download('omw-1.4')\n",
    "# Removing all empty spaces\n",
    "df[1].dropna(inplace=True) \n",
    "df[2] = df[1]\n",
    "# Converting the given text into lower letter\n",
    "df[1] = [entry.lower() for entry in df[1]]\n",
    "# Removing all given stop words, special characters and numbers\n",
    "# xy is considered to be one tag map\n",
    "xy = defaultdict(lambda : wn.NOUN)\n",
    "xy['J'] = wn.ADJ\n",
    "xy['V'] = wn.VERB\n",
    "xy['R'] = wn.ADV\n",
    "\n",
    "df.head()"
   ]
  },
  {
   "cell_type": "code",
   "execution_count": 15,
   "metadata": {},
   "outputs": [],
   "source": [
    "from nltk import pos_tag\n",
    "from sklearn import model_selection, naive_bayes, svm\n",
    "from sklearn.preprocessing import LabelEncoder\n",
    "from nltk.corpus import stopwords"
   ]
  },
  {
   "cell_type": "code",
   "execution_count": 16,
   "metadata": {},
   "outputs": [],
   "source": [
    "train_data_X, test_data_X, train_data_Y, test_data_Y = model_selection.train_test_split(df[1],df[1],test_size=0.3)\n"
   ]
  },
  {
   "cell_type": "code",
   "execution_count": 17,
   "metadata": {},
   "outputs": [],
   "source": [
    "Labelenc = LabelEncoder()\n",
    "train_data_Y = Labelenc.fit_transform(train_data_Y)\n",
    "test_data_Y = Labelenc.fit_transform(test_data_Y)"
   ]
  },
  {
   "cell_type": "code",
   "execution_count": 18,
   "metadata": {},
   "outputs": [
    {
     "name": "stdout",
     "output_type": "stream",
     "text": [
      "{'the': 37, 'reuters': 34, 'of': 29, 'are': 5, 'has': 17, 'for': 13, 'and': 3, 'in': 20, 'its': 24, 'on': 31, 'oil': 30, 'prices': 33, 'to': 40, 'over': 32, 'from': 14, 'have': 18, 'after': 1, 'an': 2, 'said': 35, 'new': 28, 'us': 44, 'up': 43, 'but': 9, 'year': 49, 'as': 6, 'inc': 21, 'ap': 4, 'by': 10, 'company': 11, 'is': 22, 'at': 7, 'his': 19, 'was': 45, 'more': 27, 'that': 36, 'google': 15, 'with': 48, 'their': 38, 'be': 8, 'it': 23, 'will': 47, 'two': 42, 'this': 39, 'first': 12, 'tuesday': 41, 'wednesday': 46, 'monday': 26, 'lt': 25, 'gt': 16, '39': 0}\n"
     ]
    }
   ],
   "source": [
    "termfrequencyvector = TfidfVectorizer(max_features=50)\n",
    "termfrequencyvector.fit(df[1])\n",
    "train_data_X_tfv = termfrequencyvector.transform(train_data_X)\n",
    "test_data_Y_tfv = termfrequencyvector.transform(test_data_X)\n",
    "\n",
    "print(termfrequencyvector.vocabulary_)"
   ]
  },
  {
   "cell_type": "code",
   "execution_count": 19,
   "metadata": {},
   "outputs": [
    {
     "name": "stdout",
     "output_type": "stream",
     "text": [
      "  (0, 47)\t0.27920433542839157\n",
      "  (0, 43)\t0.2874278511504967\n",
      "  (0, 40)\t0.24719986133203295\n",
      "  (0, 38)\t0.5981690697642243\n",
      "  (0, 34)\t0.21341272475358797\n",
      "  (0, 31)\t0.4727587207771528\n",
      "  (0, 26)\t0.3031675951450507\n",
      "  (0, 23)\t0.2440487084419631\n",
      "  (1, 40)\t0.15912608288879238\n",
      "  (1, 37)\t0.3912090237792299\n",
      "  (1, 35)\t0.2970425197454637\n",
      "  (1, 34)\t0.2747536406021591\n",
      "  (1, 32)\t0.37969231832558736\n",
      "  (1, 31)\t0.2028810290950228\n",
      "  (1, 29)\t0.1697288369761261\n",
      "  (1, 14)\t0.31214681326452065\n",
      "  (1, 12)\t0.37762268690095435\n",
      "  (1, 6)\t0.2905266323188102\n",
      "  (1, 1)\t0.34544966413923855\n",
      "  (2, 37)\t0.13736977788227386\n",
      "  (2, 34)\t0.14471616560855724\n",
      "  (2, 33)\t0.4401564765035196\n",
      "  (2, 31)\t0.21371993136107784\n",
      "  (2, 30)\t0.677659102443207\n",
      "  (2, 29)\t0.08939829305465392\n",
      "  :\t:\n",
      "  (2796, 19)\t0.3003595373304732\n",
      "  (2796, 17)\t0.26851807181195186\n",
      "  (2796, 13)\t0.19046223864104336\n",
      "  (2796, 2)\t0.27199914706962364\n",
      "  (2797, 37)\t0.34146696391285974\n",
      "  (2797, 35)\t0.38891053582042007\n",
      "  (2797, 31)\t0.2656271896722238\n",
      "  (2797, 29)\t0.2222218320431885\n",
      "  (2797, 28)\t0.41385212460839566\n",
      "  (2797, 20)\t0.4495458505342955\n",
      "  (2797, 18)\t0.48871618387232346\n",
      "  (2798, 37)\t0.43218178843888955\n",
      "  (2798, 34)\t0.2276472024375145\n",
      "  (2798, 31)\t0.16809713094212222\n",
      "  (2798, 29)\t0.28125774658277225\n",
      "  (2798, 20)\t0.1422432842718381\n",
      "  (2798, 12)\t0.312879378273338\n",
      "  (2798, 7)\t0.7320563026510973\n",
      "  (2799, 40)\t0.2703026199784553\n",
      "  (2799, 30)\t0.7284928830998381\n",
      "  (2799, 27)\t0.3151043530764852\n",
      "  (2799, 24)\t0.2535199107647309\n",
      "  (2799, 22)\t0.25760602685936596\n",
      "  (2799, 20)\t0.14581150639862736\n",
      "  (2799, 13)\t0.38085384854462945\n"
     ]
    }
   ],
   "source": [
    "print(train_data_X_tfv)"
   ]
  },
  {
   "cell_type": "code",
   "execution_count": 22,
   "metadata": {},
   "outputs": [
    {
     "data": {
      "text/plain": [
       "(2800,)"
      ]
     },
     "execution_count": 22,
     "metadata": {},
     "output_type": "execute_result"
    }
   ],
   "source": [
    "train_data_Y.shape"
   ]
  },
  {
   "cell_type": "code",
   "execution_count": 1,
   "metadata": {},
   "outputs": [
    {
     "name": "stdout",
     "output_type": "stream",
     "text": [
      "Accuracy Score using SVM-Naive Baye's is 0.331629867 \n"
     ]
    }
   ],
   "source": [
    "nb = naive_bayes.MultinomialNB()\n",
    "nb.fit(train_data_X_tfv, train_data_Y)\n",
    "pred_nb = nb.predict(test_data_Y_tfv)\n",
    "print(\"accuracy score using SVM-Naive Baye's\",accuracy_score(pred_nb, test_data_Y))"
   ]
  }
 ],
 "metadata": {
  "kernelspec": {
   "display_name": "Python 3.8.10 64-bit",
   "language": "python",
   "name": "python3"
  },
  "language_info": {
   "codemirror_mode": {
    "name": "ipython",
    "version": 3
   },
   "file_extension": ".py",
   "mimetype": "text/x-python",
   "name": "python",
   "nbconvert_exporter": "python",
   "pygments_lexer": "ipython3",
   "version": "3.8.10"
  },
  "orig_nbformat": 4,
  "vscode": {
   "interpreter": {
    "hash": "916dbcbb3f70747c44a77c7bcd40155683ae19c65e1c03b4aa3499c5328201f1"
   }
  }
 },
 "nbformat": 4,
 "nbformat_minor": 2
}
